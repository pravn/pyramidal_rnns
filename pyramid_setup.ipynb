{
 "cells": [
  {
   "cell_type": "code",
   "execution_count": 1,
   "metadata": {},
   "outputs": [],
   "source": [
    "import argparse\n",
    "import torch\n",
    "import os\n",
    "import torch.nn as nn\n",
    "import torch.optim as optim\n",
    "\n",
    "from torch.utils.data import DataLoader\n",
    "from torch.autograd import Variable\n",
    "from torch import autograd\n",
    "#from torchvision.datasets import MNIST\n",
    "#from torchvision.transforms import transforms\n",
    "from torchvision.utils import save_image\n",
    "from torch.optim.lr_scheduler import StepLR\n",
    "from torch.nn import functional as F"
   ]
  },
  {
   "cell_type": "code",
   "execution_count": 54,
   "metadata": {},
   "outputs": [],
   "source": [
    "class Pyramidal_GRU(nn.Module):\n",
    "    def __init__(self,input_size, hidden_size, seq_len=8, stack_size=3):\n",
    "        super(Pyramidal_GRU, self).__init__()\n",
    "        self.input_size = input_size\n",
    "        self.hidden_size = hidden_size\n",
    "        self.seq_len=seq_len\n",
    "        self.stack_size = 3\n",
    "        self.gru0 = nn.GRU(self.input_size, self.hidden_size,batch_first=True) #initial projection\n",
    "        \n",
    "        \n",
    "        self.pyramid = nn.ModuleList(\n",
    "            [nn.GRU(2 * hidden_size, hidden_size, batch_first=True) for _ in range(stack_size)])\n",
    "        \n",
    "            \n",
    "    def forward(self,input):\n",
    "        x,hidden = self.gru0(input)\n",
    "        \n",
    "        print('x.size',x.size())\n",
    "        \n",
    "        seq_len = x.size(1)\n",
    "        print('seq_len', seq_len)\n",
    "        for i in range(self.stack_size):\n",
    "            x = x.contiguous().view(-1,int(seq_len/2),int(2*self.hidden_size)) #need 'contiguous' or it errors out\n",
    "            print('reshaped',x.size())\n",
    "            seq_len /=2\n",
    "            \n",
    "            x,_ = self.pyramid[i](x)\n",
    "            print('processed', x.size())\n",
    "            \n",
    "        print('final',x.size())"
   ]
  },
  {
   "cell_type": "code",
   "execution_count": 55,
   "metadata": {},
   "outputs": [],
   "source": [
    "pyramid = Pyramidal_GRU(20,10,8,3)"
   ]
  },
  {
   "cell_type": "code",
   "execution_count": 56,
   "metadata": {},
   "outputs": [
    {
     "name": "stdout",
     "output_type": "stream",
     "text": [
      "Pyramidal_GRU(\n",
      "  (gru0): GRU(20, 10, batch_first=True)\n",
      "  (pyramid): ModuleList(\n",
      "    (0): GRU(20, 10, batch_first=True)\n",
      "    (1): GRU(20, 10, batch_first=True)\n",
      "    (2): GRU(20, 10, batch_first=True)\n",
      "  )\n",
      ")\n"
     ]
    }
   ],
   "source": [
    "print(pyramid)"
   ]
  },
  {
   "cell_type": "code",
   "execution_count": 57,
   "metadata": {},
   "outputs": [],
   "source": [
    "x = torch.randn(100,8,20)"
   ]
  },
  {
   "cell_type": "code",
   "execution_count": 58,
   "metadata": {},
   "outputs": [
    {
     "name": "stdout",
     "output_type": "stream",
     "text": [
      "x.size torch.Size([100, 8, 10])\n",
      "seq_len 8\n",
      "reshaped torch.Size([100, 4, 20])\n",
      "processed torch.Size([100, 4, 10])\n",
      "reshaped torch.Size([100, 2, 20])\n",
      "processed torch.Size([100, 2, 10])\n",
      "reshaped torch.Size([100, 1, 20])\n",
      "processed torch.Size([100, 1, 10])\n",
      "final torch.Size([100, 1, 10])\n"
     ]
    }
   ],
   "source": [
    "pyramid(x)"
   ]
  },
  {
   "cell_type": "code",
   "execution_count": 84,
   "metadata": {},
   "outputs": [],
   "source": [
    "class Pyramidal_BiGRU(nn.Module):\n",
    "    def __init__(self,input_size,hidden_size,seq_len=8,stack_size=3):\n",
    "        super(Pyramidal_BiGRU,self).__init__()\n",
    "        self.input_size = input_size\n",
    "        self.hidden_size = hidden_size\n",
    "        self.seq_len=seq_len\n",
    "        self.stack_size = 3\n",
    "        self.gru0 = nn.GRU(self.input_size, self.hidden_size,batch_first=True,bidirectional=True) #initial projection\n",
    "        \n",
    "        self.pyramid = nn.ModuleList(\n",
    "            [nn.GRU(4 * hidden_size, hidden_size, batch_first=True,bidirectional=True) for _ in range(stack_size)])\n",
    "        \n",
    "            \n",
    "    def forward(self,input):\n",
    "        x,hidden = self.gru0(input)\n",
    "        \n",
    "        print('x.size',x.size())\n",
    "        seq_len = x.size(1)\n",
    "        seq_len = self.seq_len\n",
    "        for i in range(self.stack_size):\n",
    "            x = x.contiguous().view(-1,int(seq_len/2),4*self.hidden_size) #need 'contiguous' or it errors out\n",
    "            print('reshaped',x.size())\n",
    "            seq_len /=2\n",
    "            \n",
    "            x,_ = self.pyramid[i](x)\n",
    "            \n",
    "            print('processed', x.size())\n",
    "            \n",
    "        print('final',x.size())        \n",
    "        "
   ]
  },
  {
   "cell_type": "code",
   "execution_count": 85,
   "metadata": {},
   "outputs": [],
   "source": [
    "pyramid = Pyramidal_BiGRU(20,10,8,3)"
   ]
  },
  {
   "cell_type": "code",
   "execution_count": 86,
   "metadata": {},
   "outputs": [
    {
     "name": "stdout",
     "output_type": "stream",
     "text": [
      "Pyramidal_BiGRU(\n",
      "  (gru0): GRU(20, 10, batch_first=True, bidirectional=True)\n",
      "  (pyramid): ModuleList(\n",
      "    (0): GRU(40, 10, batch_first=True, bidirectional=True)\n",
      "    (1): GRU(40, 10, batch_first=True, bidirectional=True)\n",
      "    (2): GRU(40, 10, batch_first=True, bidirectional=True)\n",
      "  )\n",
      ")\n"
     ]
    }
   ],
   "source": [
    "print(pyramid)"
   ]
  },
  {
   "cell_type": "code",
   "execution_count": 87,
   "metadata": {},
   "outputs": [],
   "source": [
    "x = torch.randn(10,8,20)"
   ]
  },
  {
   "cell_type": "code",
   "execution_count": 88,
   "metadata": {},
   "outputs": [
    {
     "name": "stdout",
     "output_type": "stream",
     "text": [
      "x.size torch.Size([10, 8, 20])\n",
      "reshaped torch.Size([10, 4, 40])\n",
      "processed torch.Size([10, 4, 20])\n",
      "reshaped torch.Size([10, 2, 40])\n",
      "processed torch.Size([10, 2, 20])\n",
      "reshaped torch.Size([10, 1, 40])\n",
      "processed torch.Size([10, 1, 20])\n",
      "final torch.Size([10, 1, 20])\n"
     ]
    }
   ],
   "source": [
    "pyramid(x)"
   ]
  },
  {
   "cell_type": "code",
   "execution_count": null,
   "metadata": {},
   "outputs": [],
   "source": []
  }
 ],
 "metadata": {
  "kernelspec": {
   "display_name": "Python 3",
   "language": "python",
   "name": "python3"
  },
  "language_info": {
   "codemirror_mode": {
    "name": "ipython",
    "version": 3
   },
   "file_extension": ".py",
   "mimetype": "text/x-python",
   "name": "python",
   "nbconvert_exporter": "python",
   "pygments_lexer": "ipython3",
   "version": "3.7.0"
  }
 },
 "nbformat": 4,
 "nbformat_minor": 2
}
